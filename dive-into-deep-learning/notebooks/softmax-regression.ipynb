{
 "cells": [
  {
   "cell_type": "markdown",
   "id": "1aa413f9",
   "metadata": {},
   "source": [
    "# Softmax 回归从零开始实现"
   ]
  },
  {
   "cell_type": "code",
   "execution_count": null,
   "id": "d81d9eac",
   "metadata": {},
   "outputs": [],
   "source": [
    "%matplotlib inline"
   ]
  },
  {
   "cell_type": "code",
   "execution_count": null,
   "id": "2be9f2b0",
   "metadata": {},
   "outputs": [],
   "source": [
    "from visualize import use_svg_display\n",
    "\n",
    "use_svg_display()"
   ]
  },
  {
   "cell_type": "code",
   "execution_count": null,
   "id": "ac29a8e8",
   "metadata": {},
   "outputs": [],
   "source": [
    "BATCH_SIZE = 256\n",
    "NUM_INPUTS = 784\n",
    "NUM_OUTPUTS = 10\n",
    "LR = 0.1\n",
    "NUM_EPOCHS = 10"
   ]
  },
  {
   "cell_type": "markdown",
   "id": "3234c808",
   "metadata": {},
   "source": [
    "## Step1 数据集"
   ]
  },
  {
   "cell_type": "code",
   "execution_count": null,
   "id": "d8517498",
   "metadata": {},
   "outputs": [],
   "source": [
    "from torchvision.transforms import ToTensor\n",
    "from torchvision.datasets import FashionMNIST\n",
    "\n",
    "trans = ToTensor()\n",
    "\n",
    "mnist_train = FashionMNIST(root=\"../data\", train=True, transform=trans, download=True)\n",
    "mnist_test = FashionMNIST(root=\"../data\", train=False, transform=trans, download=True)"
   ]
  },
  {
   "cell_type": "code",
   "execution_count": null,
   "id": "f1ae7684",
   "metadata": {},
   "outputs": [],
   "source": [
    "len(mnist_train), len(mnist_test)"
   ]
  },
  {
   "cell_type": "code",
   "execution_count": null,
   "id": "02e9829e",
   "metadata": {},
   "outputs": [],
   "source": [
    "mnist_train[0][0].shape"
   ]
  },
  {
   "cell_type": "code",
   "execution_count": null,
   "id": "61a22021",
   "metadata": {},
   "outputs": [],
   "source": [
    "def get_fashion_mnist_labels(labels):\n",
    "    \"\"\"\n",
    "    返回 Fashion-MNIST 数据集的文本标签\n",
    "    \"\"\"\n",
    "    text_labels = ['t-shirt', 'trouser', 'pullover', 'dress', 'coat', 'sandal', 'shirt', 'sneaker', 'bag', 'ankle boot']\n",
    "    \n",
    "    return [text_labels[int(i)] for i in labels]"
   ]
  },
  {
   "cell_type": "code",
   "execution_count": null,
   "id": "b63af229",
   "metadata": {},
   "outputs": [],
   "source": [
    "from torch.utils.data import DataLoader\n",
    "from visualize import show_images\n",
    "\n",
    "X, y = next(iter(DataLoader(mnist_train, batch_size=18)))\n",
    "\n",
    "show_images(X.reshape(18, 28, 28), 2, 9, titles=get_fashion_mnist_labels(y))"
   ]
  },
  {
   "cell_type": "code",
   "execution_count": null,
   "id": "63d6c195",
   "metadata": {},
   "outputs": [],
   "source": [
    "train_iter = DataLoader(mnist_train, BATCH_SIZE, shuffle=True)"
   ]
  },
  {
   "cell_type": "code",
   "execution_count": null,
   "id": "bb98434b",
   "metadata": {},
   "outputs": [],
   "source": [
    "from torch.utils.data import DataLoader\n",
    "from torchvision.datasets import FashionMNIST\n",
    "from torchvision.transforms import Compose, Resize, ToTensor\n",
    "\n",
    "def load_data_fashion_mnist(batch_size, resize=None):\n",
    "    \"\"\"\n",
    "    下载 Fashion-MNIST 数据集，然后将其加载到内存中\n",
    "    \"\"\"\n",
    "    trans = [ToTensor()]\n",
    "\n",
    "    if resize:\n",
    "        trans.insert(0, Resize(resize))\n",
    "    \n",
    "    trans = Compose(trans)\n",
    "\n",
    "    mnist_train = FashionMNIST(root=\"../data\", train=True, transform=trans, download=True)\n",
    "    mnist_test = FashionMNIST(root=\"../data\", train=False, transform=trans, download=True)\n",
    "    \n",
    "    return (\n",
    "        DataLoader(mnist_train, batch_size, shuffle=True),\n",
    "        DataLoader(mnist_test, batch_size, shuffle=False)\n",
    "    )"
   ]
  },
  {
   "cell_type": "code",
   "execution_count": null,
   "id": "45e70115",
   "metadata": {},
   "outputs": [],
   "source": [
    "train_iter, test_iter = load_data_fashion_mnist(32, resize=64)\n",
    "\n",
    "for X, y in train_iter:\n",
    "    print(X.shape, X.dtype, y.shape, y.dtype)\n",
    "    break"
   ]
  },
  {
   "cell_type": "code",
   "execution_count": null,
   "id": "004a8eb4",
   "metadata": {},
   "outputs": [],
   "source": [
    "train_iter, test_iter = load_data_fashion_mnist(BATCH_SIZE)"
   ]
  },
  {
   "cell_type": "markdown",
   "id": "909b3a7c",
   "metadata": {},
   "source": [
    "## Step2 定义模型"
   ]
  },
  {
   "cell_type": "code",
   "execution_count": null,
   "id": "55d1f31a",
   "metadata": {},
   "outputs": [],
   "source": [
    "import torch\n",
    "\n",
    "W = torch.normal(0, 0.01, size=(NUM_INPUTS, NUM_OUTPUTS), requires_grad=True)\n",
    "b = torch.zeros(NUM_OUTPUTS, requires_grad=True)"
   ]
  },
  {
   "cell_type": "code",
   "execution_count": null,
   "id": "acf8a9c9",
   "metadata": {},
   "outputs": [],
   "source": [
    "import torch\n",
    "\n",
    "def softmax(X):\n",
    "    X_exp = torch.exp(X)\n",
    "    partition = X_exp.sum(1, keepdim=True)\n",
    "    return X_exp / partition"
   ]
  },
  {
   "cell_type": "code",
   "execution_count": null,
   "id": "b3d9ffa2",
   "metadata": {},
   "outputs": [],
   "source": [
    "def net(X):\n",
    "    return softmax(X.reshape((-1, W.shape[0])) @ W + b)"
   ]
  },
  {
   "cell_type": "markdown",
   "id": "a6d6f470",
   "metadata": {},
   "source": [
    "## Step3 定义损失函数"
   ]
  },
  {
   "cell_type": "code",
   "execution_count": null,
   "id": "54548294",
   "metadata": {},
   "outputs": [],
   "source": [
    "def cross_entropy(y_hat, y):\n",
    "    return -torch.log(y_hat[range(len(y_hat)), y])"
   ]
  },
  {
   "cell_type": "code",
   "execution_count": null,
   "id": "ac207e17",
   "metadata": {},
   "outputs": [],
   "source": [
    "def accuracy(y_hat, y):\n",
    "    \"\"\"\n",
    "    计算预测正确的数量\n",
    "    \"\"\"\n",
    "    if len(y_hat.shape) > 1 and y_hat.shape[1] > 1:\n",
    "        y_hat = y_hat.argmax(axis=1)\n",
    "    \n",
    "    cmp = y_hat.type(y.dtype) == y\n",
    "    \n",
    "    return float(cmp.type(y.dtype).sum())"
   ]
  },
  {
   "cell_type": "code",
   "execution_count": null,
   "id": "87ca37d4",
   "metadata": {},
   "outputs": [],
   "source": [
    "from utils import Accumulator\n",
    "\n",
    "def evaluate_accuracy(net, data_iter):\n",
    "    \"\"\"\n",
    "    计算在指定数据集上模型的精度\n",
    "    \"\"\"\n",
    "    if isinstance(net, torch.nn.Module):\n",
    "        net.eval()\n",
    "    \n",
    "    metric = Accumulator(2)  # 正确预测数、预测总数\n",
    "    \n",
    "    with torch.no_grad():\n",
    "        for X, y in data_iter:\n",
    "            metric.add(accuracy(net(X), y), y.numel())\n",
    "    \n",
    "    return metric[0] / metric[1]"
   ]
  },
  {
   "cell_type": "markdown",
   "id": "5059c997",
   "metadata": {},
   "source": [
    "## Step4 训练"
   ]
  },
  {
   "cell_type": "code",
   "execution_count": null,
   "id": "c6749512",
   "metadata": {},
   "outputs": [],
   "source": [
    "def train_epoch(net, train_iter, loss, updater):\n",
    "    \"\"\"\n",
    "    训练模型一个迭代周期\n",
    "    \"\"\"\n",
    "    if isinstance(net, torch.nn.Module):\n",
    "        net.train()\n",
    "    \n",
    "    metric = Accumulator(3)  # 训练损失总和、训练准确度总和、样本数\n",
    "    \n",
    "    for X, y in train_iter:\n",
    "        y_hat = net(X)\n",
    "        l = loss(y_hat, y)\n",
    "        \n",
    "        if isinstance(updater, torch.optim.Optimizer):\n",
    "            # 使用 PyTorch 内置的优化器和损失函数\n",
    "            updater.zero_grad()\n",
    "            l.mean().backward()\n",
    "            updater.step()\n",
    "        else:\n",
    "            # 使用自定义的优化器和损失函数\n",
    "            l.sum().backward()\n",
    "            updater(X.shape[0])\n",
    "        \n",
    "        metric.add(float(l.sum()), accuracy(y_hat, y), y.numel())\n",
    "    \n",
    "    # 返回训练损失和训练精度\n",
    "    return metric[0] / metric[2], metric[1] / metric[2]"
   ]
  },
  {
   "cell_type": "code",
   "execution_count": null,
   "id": "06282f53",
   "metadata": {},
   "outputs": [],
   "source": [
    "from visualize import Animator\n",
    "\n",
    "def train(net, train_iter, test_iter, loss, num_epochs, updater):\n",
    "    \"\"\"\n",
    "    训练模型\n",
    "    \"\"\"\n",
    "    animator = Animator(\n",
    "        xlabel='epoch', \n",
    "        xlim=[1, num_epochs], \n",
    "        ylim=[0.3, 0.9],\n",
    "        legend=['train loss', 'train acc', 'test acc']\n",
    "    )\n",
    "    \n",
    "    for epoch in range(num_epochs):\n",
    "        train_metrics = train_epoch(net, train_iter, loss, updater)\n",
    "        test_acc = evaluate_accuracy(net, test_iter)\n",
    "        animator.add(epoch + 1, train_metrics + (test_acc,))\n",
    "    \n",
    "    train_loss, train_acc = train_metrics\n",
    "    \n",
    "    assert train_loss < 0.5, train_loss\n",
    "    assert train_acc <= 1 and train_acc > 0.7, train_acc\n",
    "    assert test_acc <= 1 and test_acc > 0.7, test_acc"
   ]
  },
  {
   "cell_type": "code",
   "execution_count": null,
   "id": "37d7e133",
   "metadata": {},
   "outputs": [],
   "source": [
    "from trainer import sgd\n",
    "\n",
    "def updater(batch_size):\n",
    "    return sgd([W, b], LR, batch_size)"
   ]
  },
  {
   "cell_type": "code",
   "execution_count": null,
   "id": "63097e74",
   "metadata": {},
   "outputs": [],
   "source": [
    "train(net, train_iter, test_iter, cross_entropy, NUM_EPOCHS, updater)"
   ]
  },
  {
   "cell_type": "markdown",
   "id": "2df20bb6",
   "metadata": {},
   "source": [
    "## Step5 预测"
   ]
  },
  {
   "cell_type": "code",
   "execution_count": null,
   "id": "a8645d2b",
   "metadata": {},
   "outputs": [],
   "source": [
    "def predict(net, test_iter, n=6):\n",
    "    \"\"\"\n",
    "    预测标签\n",
    "    \"\"\"\n",
    "    for X, y in test_iter:\n",
    "        break\n",
    "    \n",
    "    labels = get_fashion_mnist_labels(y)\n",
    "    preds = get_fashion_mnist_labels(net(X).argmax(axis=1))\n",
    "    titles = [true +'\\n' + pred for true, pred in zip(labels, preds)]\n",
    "    \n",
    "    show_images(X[0:n].reshape((n, 28, 28)), 1, n, titles=titles[0:n])\n",
    "\n",
    "predict(net, test_iter)"
   ]
  },
  {
   "cell_type": "markdown",
   "id": "b1c1ee18",
   "metadata": {},
   "source": [
    "# Softmax 回归 PyTorch 实现"
   ]
  },
  {
   "cell_type": "markdown",
   "id": "92dd96be",
   "metadata": {},
   "source": [
    "## Step1 数据集"
   ]
  },
  {
   "cell_type": "code",
   "execution_count": null,
   "id": "c5cead8c",
   "metadata": {},
   "outputs": [],
   "source": [
    "train_iter, test_iter = load_data_fashion_mnist(BATCH_SIZE)"
   ]
  },
  {
   "cell_type": "markdown",
   "id": "3afc84b0",
   "metadata": {},
   "source": [
    "## Step2 定义模型"
   ]
  },
  {
   "cell_type": "code",
   "execution_count": null,
   "id": "9d0ed177",
   "metadata": {},
   "outputs": [],
   "source": [
    "from torch import nn\n",
    "\n",
    "net = nn.Sequential(\n",
    "    nn.Flatten(), \n",
    "    nn.Linear(784, 10)\n",
    ")\n",
    "\n",
    "def init_weights(m):\n",
    "    if type(m) == nn.Linear:\n",
    "        nn.init.normal_(m.weight, std=0.01)\n",
    "\n",
    "net.apply(init_weights)"
   ]
  },
  {
   "cell_type": "markdown",
   "id": "395a044c",
   "metadata": {},
   "source": [
    "## Step3 定义损失函数"
   ]
  },
  {
   "cell_type": "code",
   "execution_count": null,
   "id": "45d75072",
   "metadata": {},
   "outputs": [],
   "source": [
    "loss = nn.CrossEntropyLoss(reduction='none')"
   ]
  },
  {
   "cell_type": "markdown",
   "id": "db8d8101",
   "metadata": {},
   "source": [
    "## Step4 定义优化算法"
   ]
  },
  {
   "cell_type": "code",
   "execution_count": null,
   "id": "90978436",
   "metadata": {},
   "outputs": [],
   "source": [
    "trainer = torch.optim.SGD(net.parameters(), lr=0.1)"
   ]
  },
  {
   "cell_type": "code",
   "execution_count": null,
   "id": "5935bb57",
   "metadata": {},
   "outputs": [],
   "source": [
    "train(net, train_iter, test_iter, loss, NUM_EPOCHS, trainer)"
   ]
  }
 ],
 "metadata": {
  "kernelspec": {
   "display_name": "dive-into-deep-learning (3.9.23)",
   "language": "python",
   "name": "python3"
  },
  "language_info": {
   "codemirror_mode": {
    "name": "ipython",
    "version": 3
   },
   "file_extension": ".py",
   "mimetype": "text/x-python",
   "name": "python",
   "nbconvert_exporter": "python",
   "pygments_lexer": "ipython3",
   "version": "3.9.23"
  }
 },
 "nbformat": 4,
 "nbformat_minor": 5
}
