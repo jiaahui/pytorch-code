{
 "cells": [
  {
   "cell_type": "markdown",
   "id": "ee3f99aa",
   "metadata": {},
   "source": [
    "# 多层感知机从零开始实现"
   ]
  },
  {
   "cell_type": "code",
   "execution_count": null,
   "id": "0871af01",
   "metadata": {},
   "outputs": [],
   "source": [
    "%matplotlib inline"
   ]
  },
  {
   "cell_type": "code",
   "execution_count": null,
   "id": "07880d68",
   "metadata": {},
   "outputs": [],
   "source": [
    "BATCH_SIZE = 256\n",
    "NUM_INPUTS, NUM_OUTPUTS, NUM_HIDDENS = 784, 10, 256\n",
    "NUM_EPOCHS, LR = 10, 0.1"
   ]
  },
  {
   "cell_type": "markdown",
   "id": "b358764e",
   "metadata": {},
   "source": [
    "## Step1 数据集"
   ]
  },
  {
   "cell_type": "code",
   "execution_count": null,
   "id": "0cc607de",
   "metadata": {},
   "outputs": [],
   "source": [
    "from datasets import load_data_fashion_mnist\n",
    "\n",
    "train_iter, test_iter = load_data_fashion_mnist(BATCH_SIZE)"
   ]
  },
  {
   "cell_type": "markdown",
   "id": "2afa799c",
   "metadata": {},
   "source": [
    "## Step2 定义模型"
   ]
  },
  {
   "cell_type": "code",
   "execution_count": null,
   "id": "3d7f342b",
   "metadata": {},
   "outputs": [],
   "source": [
    "import torch\n",
    "from torch import nn\n",
    "\n",
    "W1 = nn.Parameter(torch.randn(NUM_INPUTS, NUM_HIDDENS, requires_grad=True) * 0.01)\n",
    "b1 = nn.Parameter(torch.zeros(NUM_HIDDENS, requires_grad=True))\n",
    "\n",
    "W2 = nn.Parameter(torch.randn(NUM_HIDDENS, NUM_OUTPUTS, requires_grad=True) * 0.01)\n",
    "b2 = nn.Parameter(torch.zeros(NUM_OUTPUTS, requires_grad=True))\n",
    "\n",
    "params = [W1, b1, W2, b2]"
   ]
  },
  {
   "cell_type": "code",
   "execution_count": null,
   "id": "5ce9c529",
   "metadata": {},
   "outputs": [],
   "source": [
    "def relu(X):\n",
    "    a = torch.zeros_like(X)\n",
    "    return torch.max(X, a)"
   ]
  },
  {
   "cell_type": "code",
   "execution_count": null,
   "id": "f87d01d4",
   "metadata": {},
   "outputs": [],
   "source": [
    "def net(X):\n",
    "    X = X.reshape((-1, NUM_INPUTS))\n",
    "    H = relu(X @ W1 + b1)\n",
    "    return (H @ W2 + b2)"
   ]
  },
  {
   "cell_type": "markdown",
   "id": "fd2acad6",
   "metadata": {},
   "source": [
    "## Step3 损失函数"
   ]
  },
  {
   "cell_type": "code",
   "execution_count": null,
   "id": "e704d147",
   "metadata": {},
   "outputs": [],
   "source": [
    "loss = nn.CrossEntropyLoss(reduction='none')"
   ]
  },
  {
   "cell_type": "markdown",
   "id": "2b63ecb7",
   "metadata": {},
   "source": [
    "## Step4 训练"
   ]
  },
  {
   "cell_type": "code",
   "execution_count": null,
   "id": "bb2d6dbc",
   "metadata": {},
   "outputs": [],
   "source": [
    "from visualize import Animator\n",
    "from utils import Accumulator\n",
    "from trainer import train_v1"
   ]
  },
  {
   "cell_type": "code",
   "execution_count": null,
   "id": "055315a4",
   "metadata": {},
   "outputs": [],
   "source": [
    "updater = torch.optim.SGD(params, lr=LR)\n",
    "\n",
    "train_v1(net, train_iter, test_iter, loss, NUM_EPOCHS, updater)"
   ]
  },
  {
   "cell_type": "markdown",
   "id": "1f2b957e",
   "metadata": {},
   "source": [
    "# 多层感知机 PyTorch 实现"
   ]
  },
  {
   "cell_type": "code",
   "execution_count": null,
   "id": "5903cf28",
   "metadata": {},
   "outputs": [],
   "source": [
    "net = nn.Sequential(\n",
    "    nn.Flatten(),\n",
    "    nn.Linear(784, 256),\n",
    "    nn.ReLU(),\n",
    "    nn.Linear(256, 10)\n",
    ")\n",
    "\n",
    "def init_weights(m):\n",
    "    if type(m) == nn.Linear:\n",
    "        nn.init.normal_(m.weight, std=0.01)\n",
    "\n",
    "net.apply(init_weights)"
   ]
  },
  {
   "cell_type": "code",
   "execution_count": null,
   "id": "a75526c2",
   "metadata": {},
   "outputs": [],
   "source": [
    "train_iter, test_iter = load_data_fashion_mnist(BATCH_SIZE)\n",
    "loss = nn.CrossEntropyLoss(reduction='none')\n",
    "trainer = torch.optim.SGD(net.parameters(), lr=LR)\n",
    "\n",
    "train_v1(net, train_iter, test_iter, loss, NUM_EPOCHS, trainer)"
   ]
  }
 ],
 "metadata": {
  "kernelspec": {
   "display_name": "dive-into-deep-learning (3.9.23)",
   "language": "python",
   "name": "python3"
  },
  "language_info": {
   "codemirror_mode": {
    "name": "ipython",
    "version": 3
   },
   "file_extension": ".py",
   "mimetype": "text/x-python",
   "name": "python",
   "nbconvert_exporter": "python",
   "pygments_lexer": "ipython3",
   "version": "3.9.23"
  }
 },
 "nbformat": 4,
 "nbformat_minor": 5
}
