{
 "cells": [
  {
   "cell_type": "markdown",
   "id": "67805f62",
   "metadata": {},
   "source": [
    "# NiN"
   ]
  },
  {
   "cell_type": "markdown",
   "id": "c7a9b0bb",
   "metadata": {},
   "source": [
    "NiN 是一种完全使用卷积层的网络，使用自适应平均池化替代全连接层"
   ]
  },
  {
   "cell_type": "code",
   "execution_count": null,
   "id": "1873d819",
   "metadata": {},
   "outputs": [],
   "source": [
    "from torch import nn\n",
    "\n",
    "def nin_block(in_channels, out_channels, kernel_size, strides, padding):\n",
    "    return nn.Sequential(\n",
    "        nn.Conv2d(in_channels, out_channels, kernel_size, strides, padding),\n",
    "        nn.ReLU(),\n",
    "        nn.Conv2d(out_channels, out_channels, kernel_size=1), nn.ReLU(),\n",
    "        nn.Conv2d(out_channels, out_channels, kernel_size=1), nn.ReLU()\n",
    "    )"
   ]
  },
  {
   "cell_type": "code",
   "execution_count": null,
   "id": "5e5e773f",
   "metadata": {},
   "outputs": [],
   "source": [
    "net = nn.Sequential(\n",
    "    nin_block(1, 96, kernel_size=11, strides=4, padding=0),\n",
    "    nn.MaxPool2d(3, stride=2),\n",
    "    nin_block(96, 256, kernel_size=5, strides=1, padding=2),\n",
    "    nn.MaxPool2d(3, stride=2),\n",
    "    nin_block(256, 384, kernel_size=3, strides=1, padding=1),\n",
    "    nn.MaxPool2d(3, stride=2),\n",
    "    nn.Dropout(0.5),\n",
    "    # 标签类别数是 10\n",
    "    nin_block(384, 10, kernel_size=3, strides=1, padding=1),\n",
    "    nn.AdaptiveAvgPool2d((1, 1)),\n",
    "    # 将四维的输出转成二维的输出，其形状为(批量大小,10)\n",
    "    nn.Flatten()\n",
    ")"
   ]
  },
  {
   "cell_type": "code",
   "execution_count": null,
   "id": "a2b2dbe6",
   "metadata": {},
   "outputs": [],
   "source": [
    "import torch\n",
    "\n",
    "\n",
    "X = torch.rand(size=(1, 1, 224, 224))\n",
    "for layer in net:\n",
    "    X = layer(X)\n",
    "    print(layer.__class__.__name__,'output shape:\\t', X.shape)"
   ]
  },
  {
   "cell_type": "code",
   "execution_count": null,
   "id": "097550b3",
   "metadata": {},
   "outputs": [],
   "source": [
    "LR = 0.1\n",
    "NUM_EPOCHS = 10\n",
    "BATCH_SIZE = 128"
   ]
  },
  {
   "cell_type": "code",
   "execution_count": null,
   "id": "79c6d08f",
   "metadata": {},
   "outputs": [],
   "source": [
    "from accelerate import try_gpu\n",
    "from datasets import load_data_fashion_mnist\n",
    "from trainer import train_v2\n",
    "\n",
    "\n",
    "train_iter, test_iter = load_data_fashion_mnist(BATCH_SIZE, resize=224)\n",
    "train_v2(net, train_iter, test_iter, NUM_EPOCHS, LR, try_gpu())"
   ]
  }
 ],
 "metadata": {
  "kernelspec": {
   "display_name": "dive-into-deep-learning (3.9.23)",
   "language": "python",
   "name": "python3"
  },
  "language_info": {
   "codemirror_mode": {
    "name": "ipython",
    "version": 3
   },
   "file_extension": ".py",
   "mimetype": "text/x-python",
   "name": "python",
   "nbconvert_exporter": "python",
   "pygments_lexer": "ipython3",
   "version": "3.9.23"
  }
 },
 "nbformat": 4,
 "nbformat_minor": 5
}
