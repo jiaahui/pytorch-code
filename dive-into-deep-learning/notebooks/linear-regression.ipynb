{
 "cells": [
  {
   "cell_type": "markdown",
   "id": "ef671dac",
   "metadata": {},
   "source": [
    "# 线性回归从零开始实现"
   ]
  },
  {
   "cell_type": "markdown",
   "id": "08129477",
   "metadata": {},
   "source": [
    "## Step1 setup"
   ]
  },
  {
   "cell_type": "code",
   "execution_count": 1,
   "id": "cfa38b00",
   "metadata": {},
   "outputs": [],
   "source": [
    "%matplotlib inline"
   ]
  },
  {
   "cell_type": "code",
   "execution_count": 2,
   "id": "9cfa5907",
   "metadata": {},
   "outputs": [],
   "source": [
    "import sys\n",
    "import os\n",
    "\n",
    "# 获取当前 Notebook 所在目录（通常是 notebooks 文件夹）\n",
    "notebook_dir = os.getcwd()\n",
    "\n",
    "# 定位到父目录（假设 notebooks 和 utils 是同级文件夹）\n",
    "parent_dir = os.path.dirname(notebook_dir)\n",
    "\n",
    "# 拼接 utils 文件夹的路径\n",
    "utils_path = os.path.join(parent_dir, 'utils')\n",
    "\n",
    "# 将 utils 路径添加到系统路径\n",
    "if utils_path not in sys.path:\n",
    "    sys.path.append(utils_path)"
   ]
  },
  {
   "cell_type": "markdown",
   "id": "f07d0c78",
   "metadata": {},
   "source": [
    "## Step2 构造数据集"
   ]
  },
  {
   "cell_type": "code",
   "execution_count": 3,
   "id": "2c8383de",
   "metadata": {},
   "outputs": [],
   "source": [
    "import torch\n",
    "\n",
    "def synthetic_data(w, b, num_examples):\n",
    "    \"\"\"\n",
    "    生成 \"y = Xw + b + noise\" 数据\n",
    "    \"\"\"\n",
    "    X = torch.normal(0, 1, (num_examples, len(w)))\n",
    "    y = X @ w + b\n",
    "    y += torch.normal(0, 0.01, y.shape)\n",
    "    return X, y.reshape((-1, 1))"
   ]
  },
  {
   "cell_type": "code",
   "execution_count": 4,
   "id": "6cd57705",
   "metadata": {},
   "outputs": [],
   "source": [
    "TRUE_W = torch.tensor([2, -3.4])\n",
    "TRUE_B = 4.2\n",
    "NUM_EXAMPLES = 1000\n",
    "\n",
    "features, labels = synthetic_data(TRUE_W, TRUE_B, NUM_EXAMPLES)"
   ]
  },
  {
   "cell_type": "code",
   "execution_count": null,
   "id": "81a5876e",
   "metadata": {},
   "outputs": [
    {
     "data": {
      "text/plain": [
       "(tensor([[-1.0260,  0.6343],\n",
       "         [-2.5431, -1.4004],\n",
       "         [-0.4444, -1.1253],\n",
       "         [-0.8808,  2.4135],\n",
       "         [-1.1307,  0.3248],\n",
       "         [ 0.1893, -1.8623],\n",
       "         [ 0.8987,  0.4220],\n",
       "         [-0.4182,  0.1205],\n",
       "         [-1.9245, -0.1952],\n",
       "         [ 0.3117, -0.6585]]),\n",
       " tensor([[ 7.9285e-03],\n",
       "         [ 3.8824e+00],\n",
       "         [ 7.1383e+00],\n",
       "         [-5.7783e+00],\n",
       "         [ 8.5159e-01],\n",
       "         [ 1.0914e+01],\n",
       "         [ 4.5698e+00],\n",
       "         [ 2.9527e+00],\n",
       "         [ 1.0043e+00],\n",
       "         [ 7.0573e+00]]))"
      ]
     },
     "execution_count": 5,
     "metadata": {},
     "output_type": "execute_result"
    }
   ],
   "source": [
    "# 检查前 10 条数据\n",
    "features[:10], labels[:10]"
   ]
  },
  {
   "cell_type": "code",
   "execution_count": 6,
   "id": "1b21ceab",
   "metadata": {},
   "outputs": [],
   "source": [
    "import random\n",
    "\n",
    "def data_iter(features, labels, BATCH_SIZE):\n",
    "    num_examples = len(features)\n",
    "    indices = list(range(num_examples))\n",
    "    # 这些样本是随机读取的，没有特定的顺序\n",
    "    random.shuffle(indices)\n",
    "    \n",
    "    for i in range(0, num_examples, BATCH_SIZE):\n",
    "        batch_indices = torch.tensor(\n",
    "            indices[i: min(i + BATCH_SIZE, num_examples)]\n",
    "        )\n",
    "        yield features[batch_indices], labels[batch_indices]"
   ]
  },
  {
   "cell_type": "markdown",
   "id": "e37cadfd",
   "metadata": {},
   "source": [
    "## Step3 构造线性回归模型"
   ]
  },
  {
   "cell_type": "code",
   "execution_count": 7,
   "id": "24941417",
   "metadata": {},
   "outputs": [],
   "source": [
    "w = torch.normal(0, 0.01, size=(2, 1), requires_grad=True)\n",
    "b = torch.zeros(1, requires_grad=True)"
   ]
  },
  {
   "cell_type": "code",
   "execution_count": 8,
   "id": "48ad9ab6",
   "metadata": {},
   "outputs": [],
   "source": [
    "def linreg(X, w, b):\n",
    "    \"\"\"\n",
    "    线性回归模型\n",
    "    \"\"\"\n",
    "    return X @ w + b"
   ]
  },
  {
   "cell_type": "markdown",
   "id": "fb4642fe",
   "metadata": {},
   "source": [
    "## Step4 定义损失函数"
   ]
  },
  {
   "cell_type": "code",
   "execution_count": 9,
   "id": "dcf58ed9",
   "metadata": {},
   "outputs": [],
   "source": [
    "def squared_LOSS(y_hat, y):\n",
    "    \"\"\"\n",
    "    均方损失\n",
    "    \"\"\"\n",
    "    return (y_hat - y.reshape(y_hat.shape)) ** 2 / 2"
   ]
  },
  {
   "cell_type": "markdown",
   "id": "edbe868a",
   "metadata": {},
   "source": [
    "## Step5 定义优化算法"
   ]
  },
  {
   "cell_type": "code",
   "execution_count": 10,
   "id": "867f47b4",
   "metadata": {},
   "outputs": [],
   "source": [
    "def sgd(params, LR, BATCH_SIZE):\n",
    "    \"\"\"\n",
    "    小批量随机梯度下降\n",
    "    \"\"\"\n",
    "    with torch.no_grad():\n",
    "        for param in params:\n",
    "            param -= LR * param.grad / BATCH_SIZE\n",
    "            param.grad.zero_()"
   ]
  },
  {
   "cell_type": "markdown",
   "id": "d16ccc23",
   "metadata": {},
   "source": [
    "## Step6 训练"
   ]
  },
  {
   "cell_type": "code",
   "execution_count": 11,
   "id": "abeef850",
   "metadata": {},
   "outputs": [
    {
     "name": "stdout",
     "output_type": "stream",
     "text": [
      "epoch 1, LOSS 0.039583\n",
      "epoch 2, LOSS 0.000149\n",
      "epoch 3, LOSS 0.000048\n"
     ]
    }
   ],
   "source": [
    "LR = 0.03\n",
    "NUM_EPOCHS = 3\n",
    "NET = linreg\n",
    "LOSS = squared_LOSS\n",
    "BATCH_SIZE = 10\n",
    "\n",
    "for epoch in range(NUM_EPOCHS):\n",
    "    for X, y in data_iter(features, labels, BATCH_SIZE):\n",
    "        l = LOSS(NET(X, w, b), y)  # X 和 y 的小批量损失\n",
    "        # 因为 l 形状是 (BATCH_SIZE, 1)，而不是一个标量。l 中的所有元素被加到一起\n",
    "        # 并以此计算关于 [w, b] 的梯度\n",
    "        l.sum().backward()\n",
    "        sgd([w, b], LR, BATCH_SIZE)  # 使用参数的梯度更新参数\n",
    "    \n",
    "    with torch.no_grad():\n",
    "        train_l = LOSS(NET(features, w, b), labels)\n",
    "        print(f'epoch {epoch + 1}, LOSS {float(train_l.mean()):f}')"
   ]
  },
  {
   "cell_type": "code",
   "execution_count": null,
   "id": "3d73236c",
   "metadata": {},
   "outputs": [
    {
     "name": "stdout",
     "output_type": "stream",
     "text": [
      "w的估计误差: tensor([ 0.0005, -0.0004], grad_fn=<SubBackward0>)\n",
      "b的估计误差: tensor([-0.0003], grad_fn=<RsubBackward1>)\n"
     ]
    }
   ],
   "source": [
    "print(f'w 的估计误差: {TRUE_W - w.reshape(TRUE_W.shape)}')\n",
    "print(f'b 的估计误差: {TRUE_B - b}')"
   ]
  },
  {
   "cell_type": "markdown",
   "id": "12785273",
   "metadata": {},
   "source": [
    "# 线性回归 PyTorch 实现"
   ]
  },
  {
   "cell_type": "markdown",
   "id": "81836e53",
   "metadata": {},
   "source": [
    "## Step1 数据集"
   ]
  },
  {
   "cell_type": "code",
   "execution_count": 13,
   "id": "d095b3e2",
   "metadata": {},
   "outputs": [],
   "source": [
    "from torch.utils import data\n",
    "\n",
    "def load_array(data_arrays, BATCH_SIZE, is_train=True):\n",
    "    \"\"\"\n",
    "    构造一个PyTorch数据迭代器\n",
    "    \"\"\"\n",
    "    dataset = data.TensorDataset(*data_arrays)\n",
    "    return data.DataLoader(dataset, BATCH_SIZE, shuffle=is_train)"
   ]
  },
  {
   "cell_type": "code",
   "execution_count": 14,
   "id": "cad677b0",
   "metadata": {},
   "outputs": [],
   "source": [
    "BATCH_SIZE = 10\n",
    "data_iter = load_array((features, labels), BATCH_SIZE)"
   ]
  },
  {
   "cell_type": "code",
   "execution_count": 15,
   "id": "192c18e9",
   "metadata": {},
   "outputs": [
    {
     "data": {
      "text/plain": [
       "[tensor([[ 0.5981, -0.4547],\n",
       "         [ 1.3402,  0.8650],\n",
       "         [ 1.6333, -1.1153],\n",
       "         [-1.8011,  1.4902],\n",
       "         [ 3.0702,  0.5550],\n",
       "         [ 1.2768, -0.1563],\n",
       "         [ 0.6881, -2.1662],\n",
       "         [ 1.1312,  0.7483],\n",
       "         [ 0.6461, -0.5702],\n",
       "         [-1.9115, -0.7485]]),\n",
       " tensor([[ 6.9540],\n",
       "         [ 3.9414],\n",
       "         [11.2608],\n",
       "         [-4.4680],\n",
       "         [ 8.4593],\n",
       "         [ 7.2909],\n",
       "         [12.9265],\n",
       "         [ 3.9152],\n",
       "         [ 7.4444],\n",
       "         [ 2.9248]])]"
      ]
     },
     "execution_count": 15,
     "metadata": {},
     "output_type": "execute_result"
    }
   ],
   "source": [
    "# 检查第一批数据\n",
    "next(iter(data_iter))"
   ]
  },
  {
   "cell_type": "markdown",
   "id": "46dd4331",
   "metadata": {},
   "source": [
    "## Step2 定义模型"
   ]
  },
  {
   "cell_type": "code",
   "execution_count": 16,
   "id": "c02a2aad",
   "metadata": {},
   "outputs": [
    {
     "data": {
      "text/plain": [
       "tensor([0.])"
      ]
     },
     "execution_count": 16,
     "metadata": {},
     "output_type": "execute_result"
    }
   ],
   "source": [
    "from torch import nn\n",
    "\n",
    "net = nn.Sequential(nn.Linear(2, 1))\n",
    "\n",
    "# 初始化模型参数\n",
    "net[0].weight.data.normal_(0, 0.01)\n",
    "net[0].bias.data.fill_(0)"
   ]
  },
  {
   "cell_type": "markdown",
   "id": "5540798c",
   "metadata": {},
   "source": [
    "## Step3 定义损失函数"
   ]
  },
  {
   "cell_type": "code",
   "execution_count": 17,
   "id": "9ac0b2dc",
   "metadata": {},
   "outputs": [],
   "source": [
    "loss = nn.MSELoss()"
   ]
  },
  {
   "cell_type": "markdown",
   "id": "e2109864",
   "metadata": {},
   "source": [
    "## Step4 定义优化算法"
   ]
  },
  {
   "cell_type": "code",
   "execution_count": 18,
   "id": "a06b4025",
   "metadata": {},
   "outputs": [],
   "source": [
    "trainer = torch.optim.SGD(net.parameters(), lr=0.03)"
   ]
  },
  {
   "cell_type": "markdown",
   "id": "71b8bc43",
   "metadata": {},
   "source": [
    "## Step5 训练"
   ]
  },
  {
   "cell_type": "code",
   "execution_count": 19,
   "id": "a8e5f773",
   "metadata": {},
   "outputs": [
    {
     "name": "stdout",
     "output_type": "stream",
     "text": [
      "epoch 1, loss 0.000275\n",
      "epoch 2, loss 0.000096\n",
      "epoch 3, loss 0.000095\n"
     ]
    }
   ],
   "source": [
    "NUM_EPOCHS = 3\n",
    "\n",
    "for epoch in range(NUM_EPOCHS):\n",
    "    for X, y in data_iter:\n",
    "        l = loss(net(X) ,y)\n",
    "        trainer.zero_grad()\n",
    "        l.backward()\n",
    "        trainer.step()\n",
    "    \n",
    "    l = loss(net(features), labels)\n",
    "    print(f'epoch {epoch + 1}, loss {l:f}')"
   ]
  },
  {
   "cell_type": "code",
   "execution_count": null,
   "id": "9dc407d2",
   "metadata": {},
   "outputs": [
    {
     "name": "stdout",
     "output_type": "stream",
     "text": [
      "w的估计误差： tensor([4.0758e-04, 1.5497e-05])\n",
      "b的估计误差： tensor([-0.0002])\n"
     ]
    }
   ],
   "source": [
    "w = net[0].weight.data\n",
    "print('w 的估计误差：', TRUE_W - w.reshape(TRUE_W.shape))\n",
    "b = net[0].bias.data\n",
    "print('b 的估计误差：', TRUE_B - b)"
   ]
  }
 ],
 "metadata": {
  "kernelspec": {
   "display_name": "dive-into-deep-learning (3.9.23)",
   "language": "python",
   "name": "python3"
  },
  "language_info": {
   "codemirror_mode": {
    "name": "ipython",
    "version": 3
   },
   "file_extension": ".py",
   "mimetype": "text/x-python",
   "name": "python",
   "nbconvert_exporter": "python",
   "pygments_lexer": "ipython3",
   "version": "3.9.23"
  }
 },
 "nbformat": 4,
 "nbformat_minor": 5
}
