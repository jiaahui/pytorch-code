{
 "cells": [
  {
   "cell_type": "markdown",
   "id": "ef671dac",
   "metadata": {},
   "source": [
    "# 线性回归从零开始实现"
   ]
  },
  {
   "cell_type": "markdown",
   "id": "08129477",
   "metadata": {},
   "source": [
    "## Step1 setup"
   ]
  },
  {
   "cell_type": "code",
   "execution_count": null,
   "id": "cfa38b00",
   "metadata": {},
   "outputs": [],
   "source": [
    "%matplotlib inline"
   ]
  },
  {
   "cell_type": "code",
   "execution_count": null,
   "id": "cbe5d7e5",
   "metadata": {},
   "outputs": [],
   "source": [
    "import torch\n",
    "\n",
    "# 超参数\n",
    "TRUE_W = torch.tensor([2, -3.4])\n",
    "TRUE_B = 4.2\n",
    "NUM_EXAMPLES = 1000\n",
    "LR = 0.03\n",
    "NUM_EPOCHS = 3\n",
    "BATCH_SIZE = 10"
   ]
  },
  {
   "cell_type": "markdown",
   "id": "f07d0c78",
   "metadata": {},
   "source": [
    "## Step2 构造数据集"
   ]
  },
  {
   "cell_type": "code",
   "execution_count": null,
   "id": "2c8383de",
   "metadata": {},
   "outputs": [],
   "source": [
    "def synthetic_data(w, b, num_examples):\n",
    "    \"\"\"\n",
    "    生成 \"y = Xw + b + noise\" 数据\n",
    "    \"\"\"\n",
    "    X = torch.normal(0, 1, (num_examples, len(w)))\n",
    "    y = X @ w + b\n",
    "    y += torch.normal(0, 0.01, y.shape)\n",
    "    \n",
    "    return X, y.reshape((-1, 1))"
   ]
  },
  {
   "cell_type": "code",
   "execution_count": null,
   "id": "6cd57705",
   "metadata": {},
   "outputs": [],
   "source": [
    "features, labels = synthetic_data(TRUE_W, TRUE_B, NUM_EXAMPLES)"
   ]
  },
  {
   "cell_type": "code",
   "execution_count": null,
   "id": "4aeeab20",
   "metadata": {},
   "outputs": [],
   "source": [
    "from visualize import set_figsize\n",
    "from matplotlib import pyplot as plt\n",
    "\n",
    "# 数据可视化\n",
    "set_figsize()\n",
    "plt.scatter(features[:, (1)].detach().numpy(), labels.detach().numpy(), 1)"
   ]
  },
  {
   "cell_type": "code",
   "execution_count": null,
   "id": "1b21ceab",
   "metadata": {},
   "outputs": [],
   "source": [
    "import random\n",
    "\n",
    "def data_iter(features, labels, BATCH_SIZE):\n",
    "    num_examples = len(features)\n",
    "    indices = list(range(num_examples))\n",
    "    random.shuffle(indices)  # 随机读取\n",
    "    \n",
    "    for i in range(0, num_examples, BATCH_SIZE):\n",
    "        batch_indices = torch.tensor(\n",
    "            indices[i: min(i + BATCH_SIZE, num_examples)]\n",
    "        )\n",
    "        yield features[batch_indices], labels[batch_indices]"
   ]
  },
  {
   "cell_type": "markdown",
   "id": "e37cadfd",
   "metadata": {},
   "source": [
    "## Step3 定义模型"
   ]
  },
  {
   "cell_type": "code",
   "execution_count": null,
   "id": "24941417",
   "metadata": {},
   "outputs": [],
   "source": [
    "w = torch.normal(0, 0.01, size=(2, 1), requires_grad=True)\n",
    "b = torch.zeros(1, requires_grad=True)"
   ]
  },
  {
   "cell_type": "code",
   "execution_count": null,
   "id": "48ad9ab6",
   "metadata": {},
   "outputs": [],
   "source": [
    "def linreg(X, w, b):\n",
    "    \"\"\"\n",
    "    线性回归模型\n",
    "    \"\"\"\n",
    "    return X @ w + b"
   ]
  },
  {
   "cell_type": "markdown",
   "id": "fb4642fe",
   "metadata": {},
   "source": [
    "## Step4 定义损失函数"
   ]
  },
  {
   "cell_type": "code",
   "execution_count": null,
   "id": "dcf58ed9",
   "metadata": {},
   "outputs": [],
   "source": [
    "def squared_loss(y_hat, y):\n",
    "    \"\"\"\n",
    "    均方损失\n",
    "    \"\"\"\n",
    "    return (y_hat - y.reshape(y_hat.shape)) ** 2 / 2"
   ]
  },
  {
   "cell_type": "markdown",
   "id": "edbe868a",
   "metadata": {},
   "source": [
    "## Step5 定义优化算法"
   ]
  },
  {
   "cell_type": "code",
   "execution_count": null,
   "id": "867f47b4",
   "metadata": {},
   "outputs": [],
   "source": [
    "def sgd(params, LR, BATCH_SIZE):\n",
    "    \"\"\"\n",
    "    小批量随机梯度下降\n",
    "    \"\"\"\n",
    "    with torch.no_grad():\n",
    "        for param in params:\n",
    "            param -= LR * param.grad / BATCH_SIZE\n",
    "            param.grad.zero_()"
   ]
  },
  {
   "cell_type": "markdown",
   "id": "d16ccc23",
   "metadata": {},
   "source": [
    "## Step6 训练"
   ]
  },
  {
   "cell_type": "code",
   "execution_count": null,
   "id": "abeef850",
   "metadata": {},
   "outputs": [],
   "source": [
    "for epoch in range(NUM_EPOCHS):\n",
    "    for X, y in data_iter(features, labels, BATCH_SIZE):\n",
    "        y_hat = linreg(X, w, b)\n",
    "        loss = squared_loss(y_hat, y)  # 计算小批量损失\n",
    "        loss.sum().backward()  # l 的形状 (bs, 1) 反向传播要求 loss 是标量\n",
    "        sgd([w, b], LR, BATCH_SIZE)  # 使用参数的梯度更新参数\n",
    "    \n",
    "    # 使用全部的数据计算 loss, 检查 loss 变化\n",
    "    with torch.no_grad():\n",
    "        y_hat = linreg(features, w, b)\n",
    "        loss = squared_loss(y_hat, labels).mean()\n",
    "        print(f'epoch: {epoch + 1}, mean_square_loss: {float(loss):f}')"
   ]
  },
  {
   "cell_type": "code",
   "execution_count": null,
   "id": "3d73236c",
   "metadata": {},
   "outputs": [],
   "source": [
    "print(f'w 的估计误差: {TRUE_W - w.reshape(TRUE_W.shape)}')\n",
    "print(f'b 的估计误差: {TRUE_B - b}')"
   ]
  },
  {
   "cell_type": "markdown",
   "id": "12785273",
   "metadata": {},
   "source": [
    "# 线性回归 PyTorch 实现"
   ]
  },
  {
   "cell_type": "markdown",
   "id": "81836e53",
   "metadata": {},
   "source": [
    "## Step1 数据集"
   ]
  },
  {
   "cell_type": "code",
   "execution_count": null,
   "id": "d095b3e2",
   "metadata": {},
   "outputs": [],
   "source": [
    "from torch.utils.data import DataLoader, TensorDataset\n",
    "\n",
    "def load_array(data_arrays, batch_size, is_train=True):\n",
    "    \"\"\"\n",
    "    构造一个 PyTorch 数据迭代器\n",
    "    \"\"\"\n",
    "    dataset = TensorDataset(*data_arrays)\n",
    "    return DataLoader(dataset, batch_size, shuffle=is_train)"
   ]
  },
  {
   "cell_type": "code",
   "execution_count": null,
   "id": "cad677b0",
   "metadata": {},
   "outputs": [],
   "source": [
    "data_iter = load_array((features, labels), BATCH_SIZE)"
   ]
  },
  {
   "cell_type": "markdown",
   "id": "46dd4331",
   "metadata": {},
   "source": [
    "## Step2 定义模型"
   ]
  },
  {
   "cell_type": "code",
   "execution_count": null,
   "id": "c02a2aad",
   "metadata": {},
   "outputs": [],
   "source": [
    "from torch import nn\n",
    "\n",
    "net = nn.Sequential(\n",
    "    nn.Linear(2, 1)\n",
    ")\n",
    "\n",
    "# 初始化模型参数\n",
    "net[0].weight.data.normal_(0, 0.01)\n",
    "net[0].bias.data.fill_(0)"
   ]
  },
  {
   "cell_type": "markdown",
   "id": "5540798c",
   "metadata": {},
   "source": [
    "## Step3 定义损失函数"
   ]
  },
  {
   "cell_type": "code",
   "execution_count": null,
   "id": "9ac0b2dc",
   "metadata": {},
   "outputs": [],
   "source": [
    "loss = nn.MSELoss()"
   ]
  },
  {
   "cell_type": "markdown",
   "id": "e2109864",
   "metadata": {},
   "source": [
    "## Step4 定义优化算法"
   ]
  },
  {
   "cell_type": "code",
   "execution_count": null,
   "id": "a06b4025",
   "metadata": {},
   "outputs": [],
   "source": [
    "trainer = torch.optim.SGD(net.parameters(), lr=0.03)"
   ]
  },
  {
   "cell_type": "markdown",
   "id": "71b8bc43",
   "metadata": {},
   "source": [
    "## Step5 训练"
   ]
  },
  {
   "cell_type": "code",
   "execution_count": null,
   "id": "a8e5f773",
   "metadata": {},
   "outputs": [],
   "source": [
    "for epoch in range(NUM_EPOCHS):\n",
    "    for X, y in data_iter:\n",
    "        y_hat = net(X)\n",
    "        l = loss(y_hat, y)\n",
    "        trainer.zero_grad()\n",
    "        l.backward()\n",
    "        trainer.step()\n",
    "    \n",
    "    l = loss(net(features), labels)\n",
    "    print(f'epoch: {epoch + 1}, MSEloss: {l:f}')"
   ]
  },
  {
   "cell_type": "code",
   "execution_count": null,
   "id": "9dc407d2",
   "metadata": {},
   "outputs": [],
   "source": [
    "w = net[0].weight.data\n",
    "b = net[0].bias.data\n",
    "\n",
    "print('w 的估计误差：', TRUE_W - w.reshape(TRUE_W.shape))\n",
    "print('b 的估计误差：', TRUE_B - b)"
   ]
  }
 ],
 "metadata": {
  "kernelspec": {
   "display_name": "dive-into-deep-learning (3.9.23)",
   "language": "python",
   "name": "python3"
  },
  "language_info": {
   "codemirror_mode": {
    "name": "ipython",
    "version": 3
   },
   "file_extension": ".py",
   "mimetype": "text/x-python",
   "name": "python",
   "nbconvert_exporter": "python",
   "pygments_lexer": "ipython3",
   "version": "3.9.23"
  }
 },
 "nbformat": 4,
 "nbformat_minor": 5
}
